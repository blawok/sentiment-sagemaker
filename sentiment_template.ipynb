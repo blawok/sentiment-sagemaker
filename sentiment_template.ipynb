{
  "nbformat": 4,
  "nbformat_minor": 0,
  "metadata": {
    "colab": {
      "name": "sentiment_template.ipynb",
      "provenance": [],
      "collapsed_sections": []
    },
    "kernelspec": {
      "name": "python3",
      "display_name": "Python 3"
    },
    "accelerator": "GPU"
  },
  "cells": [
    {
      "cell_type": "code",
      "metadata": {
        "id": "E4keXUQXSdMY",
        "colab_type": "code",
        "colab": {
          "base_uri": "https://localhost:8080/",
          "height": 54
        },
        "outputId": "97062c97-e9bb-4b0a-aa32-8dc14503ebb2"
      },
      "source": [
        "import pandas as pd\n",
        "import numpy as np\n",
        "import pickle\n",
        "import nltk\n",
        "nltk.download('stopwords')\n",
        "import matplotlib.pyplot as plt\n",
        "%matplotlib inline\n",
        "import seaborn as sns\n",
        "\n",
        "from tensorflow.keras.preprocessing.text import Tokenizer\n",
        "from tensorflow.keras.preprocessing.sequence import pad_sequences\n",
        "from tensorflow.keras.layers import (Dense, Flatten, LSTM, GRU, Embedding,\n",
        "                                     Dropout, Activation, Bidirectional,\n",
        "                                     GlobalAveragePooling1D, GlobalMaxPooling1D,\n",
        "                                     Conv1D, MaxPooling1D)\n",
        "from tensorflow.keras.models import Sequential, Model, model_from_json\n",
        "from tensorflow.keras.optimizers import Adam\n",
        "\n",
        "from sklearn.metrics import (roc_auc_score, classification_report,\n",
        "                             confusion_matrix)\n",
        "from sklearn.model_selection import train_test_split\n",
        "\n",
        "\n",
        "def save_model(model,name):\n",
        "    json_string = model.to_json()\n",
        "    open('drive/My Drive/Toxic_Comments/model_files/'+name+'_architecture.json', 'w').write(json_string)\n",
        "    model.save_weights('drive/My Drive/Toxic_Comments/model_files/'+name+'_weights.h5')\n",
        "    \n",
        "def load_model(name):\n",
        "    model = model_from_json(open('drive/My Drive/Toxic_Comments/model_files/'+name+'_architecture.json').read())\n",
        "    model.load_weights('drive/My Drive/Toxic_Comments/model_files/'+name+'_weights.h5')\n",
        "    return(model)"
      ],
      "execution_count": 168,
      "outputs": [
        {
          "output_type": "stream",
          "text": [
            "[nltk_data] Downloading package stopwords to /root/nltk_data...\n",
            "[nltk_data]   Package stopwords is already up-to-date!\n"
          ],
          "name": "stdout"
        }
      ]
    },
    {
      "cell_type": "code",
      "metadata": {
        "id": "0QOAiGG7SjzW",
        "colab_type": "code",
        "colab": {}
      },
      "source": [
        "df = pd.read_csv('/content/drive/My Drive/dlaBartka.csv')"
      ],
      "execution_count": 0,
      "outputs": []
    },
    {
      "cell_type": "code",
      "metadata": {
        "id": "iu9XHTUJS3UN",
        "colab_type": "code",
        "colab": {
          "base_uri": "https://localhost:8080/",
          "height": 297
        },
        "outputId": "52d8cc6a-ff66-4b3b-eb2c-d7e5396b1634"
      },
      "source": [
        "sns.countplot(df.handLabel, palette='Blues')"
      ],
      "execution_count": 118,
      "outputs": [
        {
          "output_type": "execute_result",
          "data": {
            "text/plain": [
              "<matplotlib.axes._subplots.AxesSubplot at 0x7f7c0d027cc0>"
            ]
          },
          "metadata": {
            "tags": []
          },
          "execution_count": 118
        },
        {
          "output_type": "display_data",
          "data": {
            "image/png": "[encoded data removed]",
            "text/plain": [
              "<Figure size 432x288 with 1 Axes>"
            ]
          },
          "metadata": {
            "tags": [],
            "needs_background": "light"
          }
        }
      ]
    },
    {
      "cell_type": "code",
      "metadata": {
        "id": "AgKBovD_UbgK",
        "colab_type": "code",
        "colab": {}
      },
      "source": [
        "stopwords = nltk.corpus.stopwords.words('english')\n",
        "df['tweetsProcessedENGFinalLemmatized'] = df['tweetsProcessedENGFinalLemmatized'].astype(str)\n",
        "df['clean_tweets'] = df['tweetsProcessedENGFinalLemmatized'].apply(lambda x: ' '.join([word for word in x.split() if word not in (stopwords)]))"
      ],
      "execution_count": 0,
      "outputs": []
    },
    {
      "cell_type": "code",
      "metadata": {
        "id": "VwYrHDY5UMUx",
        "colab_type": "code",
        "colab": {}
      },
      "source": [
        "# df = df[df.handLabel != 'Neutral']\n",
        "X = df.tweetsProcessedENGFinalLemmatized\n",
        "y = pd.get_dummies(df.handLabel).values\n",
        "\n",
        "X_train, X_test, y_train, y_test = train_test_split(X, y, test_size=0.15, random_state=666)"
      ],
      "execution_count": 0,
      "outputs": []
    },
    {
      "cell_type": "markdown",
      "metadata": {
        "id": "2rbsujdcoD0b",
        "colab_type": "text"
      },
      "source": [
        "## Distribution among sets"
      ]
    },
    {
      "cell_type": "code",
      "metadata": {
        "id": "nOhPmbkwn7l-",
        "colab_type": "code",
        "colab": {
          "base_uri": "https://localhost:8080/",
          "height": 283
        },
        "outputId": "1edda8b2-9add-4dbf-8cbc-8fcac6f54acc"
      },
      "source": [
        "original_back = pd.DataFrame(y_train).idxmax(axis=1)\n",
        "sns.countplot(original_back, palette='Blues_r')"
      ],
      "execution_count": 117,
      "outputs": [
        {
          "output_type": "execute_result",
          "data": {
            "text/plain": [
              "<matplotlib.axes._subplots.AxesSubplot at 0x7f7c0d055cf8>"
            ]
          },
          "metadata": {
            "tags": []
          },
          "execution_count": 117
        },
        {
          "output_type": "display_data",
          "data": {
            "image/png": "[encoded data removed]",
            "text/plain": [
              "<Figure size 432x288 with 1 Axes>"
            ]
          },
          "metadata": {
            "tags": [],
            "needs_background": "light"
          }
        }
      ]
    },
    {
      "cell_type": "code",
      "metadata": {
        "id": "HrCAYmuomAMx",
        "colab_type": "code",
        "colab": {
          "base_uri": "https://localhost:8080/",
          "height": 283
        },
        "outputId": "3cf5e070-e122-413a-f148-eb230020cab4"
      },
      "source": [
        "original_back = pd.DataFrame(y_test).idxmax(axis=1)\n",
        "sns.countplot(original_back, palette='Blues_r')"
      ],
      "execution_count": 115,
      "outputs": [
        {
          "output_type": "execute_result",
          "data": {
            "text/plain": [
              "<matplotlib.axes._subplots.AxesSubplot at 0x7f7c0d0c4a90>"
            ]
          },
          "metadata": {
            "tags": []
          },
          "execution_count": 115
        },
        {
          "output_type": "display_data",
          "data": {
            "image/png": "[encoded data removed]",
            "text/plain": [
              "<Figure size 432x288 with 1 Axes>"
            ]
          },
          "metadata": {
            "tags": [],
            "needs_background": "light"
          }
        }
      ]
    },
    {
      "cell_type": "markdown",
      "metadata": {
        "id": "x6a1WQ04l2q6",
        "colab_type": "text"
      },
      "source": [
        "# Classifier"
      ]
    },
    {
      "cell_type": "code",
      "metadata": {
        "id": "Ly7sxtPDWdHy",
        "colab_type": "code",
        "colab": {}
      },
      "source": [
        "max_features = 30000\n",
        "\n",
        "tokenizer = Tokenizer(num_words=max_features)\n",
        "tokenizer.fit_on_texts(list(X_train))"
      ],
      "execution_count": 0,
      "outputs": []
    },
    {
      "cell_type": "code",
      "metadata": {
        "id": "fnWT9bTjToTq",
        "colab_type": "code",
        "colab": {}
      },
      "source": [
        "word_index = tokenizer.word_index\n",
        "vocab_size=len(word_index)\n",
        "\n",
        "X_train = tokenizer.texts_to_sequences(X_train)\n",
        "X_test = tokenizer.texts_to_sequences(X_test)\n",
        "\n",
        "max_length = 300\n",
        "padding_type='post'\n",
        "X_train = pad_sequences(X_train, maxlen=max_length, padding=padding_type)\n",
        "X_test = pad_sequences(X_test, maxlen=max_length, padding=padding_type)"
      ],
      "execution_count": 0,
      "outputs": []
    },
    {
      "cell_type": "code",
      "metadata": {
        "id": "i0-_pKMaW7H5",
        "colab_type": "code",
        "colab": {
          "base_uri": "https://localhost:8080/",
          "height": 219
        },
        "outputId": "7e55de42-d2e2-4542-bf66-ed2f1bd5c141"
      },
      "source": [
        "!wget --no-check-certificate \\\n",
        "    https://storage.googleapis.com/laurencemoroney-blog.appspot.com/glove.6B.100d.txt \\\n",
        "    -O /tmp/glove.6B.100d.txt\n",
        "embeddings_index = {};\n",
        "with open('/tmp/glove.6B.100d.txt') as f:\n",
        "    for line in f:\n",
        "        values = line.split();\n",
        "        word = values[0];\n",
        "        coefs = np.asarray(values[1:], dtype='float32');\n",
        "        embeddings_index[word] = coefs;\n",
        "\n",
        "embeddings_matrix = np.zeros((vocab_size+1, 100));\n",
        "for word, i in word_index.items():\n",
        "    embedding_vector = embeddings_index.get(word);\n",
        "    if embedding_vector is not None:\n",
        "        embeddings_matrix[i] = embedding_vector;"
      ],
      "execution_count": 156,
      "outputs": [
        {
          "output_type": "stream",
          "text": [
            "--2020-04-19 09:05:25--  https://storage.googleapis.com/laurencemoroney-blog.appspot.com/glove.6B.100d.txt\n",
            "Resolving storage.googleapis.com (storage.googleapis.com)... 108.177.97.128, 2404:6800:4008:c07::80\n",
            "Connecting to storage.googleapis.com (storage.googleapis.com)|108.177.97.128|:443... connected.\n",
            "HTTP request sent, awaiting response... 200 OK\n",
            "Length: 347116733 (331M) [text/plain]\n",
            "Saving to: ‘/tmp/glove.6B.100d.txt’\n",
            "\n",
            "/tmp/glove.6B.100d. 100%[===================>] 331.04M   161MB/s    in 2.1s    \n",
            "\n",
            "2020-04-19 09:05:27 (161 MB/s) - ‘/tmp/glove.6B.100d.txt’ saved [347116733/347116733]\n",
            "\n"
          ],
          "name": "stdout"
        }
      ]
    },
    {
      "cell_type": "code",
      "metadata": {
        "id": "WgKcpDubW-yn",
        "colab_type": "code",
        "colab": {}
      },
      "source": [
        "model = Sequential([\n",
        "                    \n",
        "    Embedding(vocab_size+1, 100, input_length=max_length, weights=[embeddings_matrix], trainable=False),\n",
        "    Dropout(0.1),\n",
        "\n",
        "    Conv1D(256, 5),\n",
        "    MaxPooling1D(pool_size=4),\n",
        "\n",
        "    Bidirectional(GRU(256, dropout=0.1, return_sequences=True)),\n",
        "    Dropout(0.1),\n",
        "    Bidirectional(GRU(256, dropout=0.1, return_sequences=True)),\n",
        "    GlobalMaxPooling1D(),\n",
        "\n",
        "    Dense(128, activation='relu'),\n",
        "    Dropout(0.1),\n",
        "\n",
        "    Dense(3, activation='softmax')\n",
        "])\n",
        "\n",
        "model.compile(loss='categorical_crossentropy',\n",
        "              optimizer='adam',\n",
        "              metrics=['accuracy'])"
      ],
      "execution_count": 0,
      "outputs": []
    },
    {
      "cell_type": "code",
      "metadata": {
        "id": "pFcY97OKwyDy",
        "colab_type": "code",
        "colab": {
          "base_uri": "https://localhost:8080/",
          "height": 568
        },
        "outputId": "a5a530be-0b85-498c-f75c-ba8858cc8d8d"
      },
      "source": [
        "model.summary()"
      ],
      "execution_count": 170,
      "outputs": [
        {
          "output_type": "stream",
          "text": [
            "Model: \"sequential_8\"\n",
            "_________________________________________________________________\n",
            "Layer (type)                 Output Shape              Param #   \n",
            "=================================================================\n",
            "embedding_8 (Embedding)      (None, 300, 100)          3623900   \n",
            "_________________________________________________________________\n",
            "dropout_22 (Dropout)         (None, 300, 100)          0         \n",
            "_________________________________________________________________\n",
            "conv1d_8 (Conv1D)            (None, 296, 256)          128256    \n",
            "_________________________________________________________________\n",
            "max_pooling1d_8 (MaxPooling1 (None, 74, 256)           0         \n",
            "_________________________________________________________________\n",
            "bidirectional_12 (Bidirectio (None, 74, 512)           789504    \n",
            "_________________________________________________________________\n",
            "dropout_23 (Dropout)         (None, 74, 512)           0         \n",
            "_________________________________________________________________\n",
            "bidirectional_13 (Bidirectio (None, 74, 512)           1182720   \n",
            "_________________________________________________________________\n",
            "global_max_pooling1d_8 (Glob (None, 512)               0         \n",
            "_________________________________________________________________\n",
            "dense_16 (Dense)             (None, 128)               65664     \n",
            "_________________________________________________________________\n",
            "dropout_24 (Dropout)         (None, 128)               0         \n",
            "_________________________________________________________________\n",
            "dense_17 (Dense)             (None, 3)                 387       \n",
            "=================================================================\n",
            "Total params: 5,790,431\n",
            "Trainable params: 2,166,531\n",
            "Non-trainable params: 3,623,900\n",
            "_________________________________________________________________\n"
          ],
          "name": "stdout"
        }
      ]
    },
    {
      "cell_type": "code",
      "metadata": {
        "id": "K95I4PnMW-4x",
        "colab_type": "code",
        "colab": {
          "base_uri": "https://localhost:8080/",
          "height": 127
        },
        "outputId": "fd19b0d9-c25c-4350-d4a8-f7619cfb1190"
      },
      "source": [
        "epochs = 3\n",
        "batch_size = 256\n",
        "\n",
        "history = model.fit(X_train,\n",
        "                    y_train,\n",
        "                    epochs=epochs,\n",
        "                    batch_size=batch_size,\n",
        "                    validation_split=0.1)"
      ],
      "execution_count": 160,
      "outputs": [
        {
          "output_type": "stream",
          "text": [
            "Epoch 1/3\n",
            "338/338 [==============================] - 33s 99ms/step - loss: 0.9645 - accuracy: 0.5254 - val_loss: 0.9121 - val_accuracy: 0.5627\n",
            "Epoch 2/3\n",
            "338/338 [==============================] - 32s 95ms/step - loss: 0.9214 - accuracy: 0.5548 - val_loss: 0.9147 - val_accuracy: 0.5579\n",
            "Epoch 3/3\n",
            "338/338 [==============================] - 32s 95ms/step - loss: 0.9037 - accuracy: 0.5676 - val_loss: 0.8959 - val_accuracy: 0.5706\n"
          ],
          "name": "stdout"
        }
      ]
    },
    {
      "cell_type": "code",
      "metadata": {
        "id": "C5JXr2YTlLVa",
        "colab_type": "code",
        "colab": {
          "base_uri": "https://localhost:8080/",
          "height": 281
        },
        "outputId": "53f26ad4-2cf8-4399-b28d-68c1a2437cb1"
      },
      "source": [
        "plt.title('Loss')\n",
        "plt.plot(history.history['loss'], label='train')\n",
        "plt.plot(history.history['val_loss'], label='validation')\n",
        "plt.legend()\n",
        "plt.show();"
      ],
      "execution_count": 161,
      "outputs": [
        {
          "output_type": "display_data",
          "data": {
            "image/png": "[encoded data removed]",
            "text/plain": [
              "<Figure size 432x288 with 1 Axes>"
            ]
          },
          "metadata": {
            "tags": [],
            "needs_background": "light"
          }
        }
      ]
    },
    {
      "cell_type": "code",
      "metadata": {
        "id": "1y8_QF2dlN2N",
        "colab_type": "code",
        "colab": {
          "base_uri": "https://localhost:8080/",
          "height": 281
        },
        "outputId": "be056c6b-1035-4d57-a030-afa78eae261a"
      },
      "source": [
        "plt.title('Accuracy')\n",
        "plt.plot(history.history['accuracy'], label='train')\n",
        "plt.plot(history.history['val_accuracy'], label='validation')\n",
        "plt.legend()\n",
        "plt.show();"
      ],
      "execution_count": 162,
      "outputs": [
        {
          "output_type": "display_data",
          "data": {
            "image/png": "[encoded data removed]",
            "text/plain": [
              "<Figure size 432x288 with 1 Axes>"
            ]
          },
          "metadata": {
            "tags": [],
            "needs_background": "light"
          }
        }
      ]
    },
    {
      "cell_type": "markdown",
      "metadata": {
        "id": "hLr54BKHlFSo",
        "colab_type": "text"
      },
      "source": [
        "# Evaluation\n"
      ]
    },
    {
      "cell_type": "code",
      "metadata": {
        "id": "-hknAwVyaJoc",
        "colab_type": "code",
        "colab": {
          "base_uri": "https://localhost:8080/",
          "height": 90
        },
        "outputId": "d91c69ab-3439-43f6-e117-82961a5ccbd5"
      },
      "source": [
        "accr = model.evaluate(X_test,y_test)\n",
        "print('Test set\\n  Loss: {:0.3f}\\n  Accuracy: {:0.3f}'.format(accr[0],accr[1]))"
      ],
      "execution_count": 163,
      "outputs": [
        {
          "output_type": "stream",
          "text": [
            "531/531 [==============================] - 7s 13ms/step - loss: 0.9061 - accuracy: 0.5625\n",
            "Test set\n",
            "  Loss: 0.906\n",
            "  Accuracy: 0.562\n"
          ],
          "name": "stdout"
        }
      ]
    },
    {
      "cell_type": "code",
      "metadata": {
        "id": "UOP0OgTuf3x6",
        "colab_type": "code",
        "colab": {}
      },
      "source": [
        "y_pred = model.predict(X_test)"
      ],
      "execution_count": 0,
      "outputs": []
    },
    {
      "cell_type": "code",
      "metadata": {
        "id": "nOSS-Eyzgn8Z",
        "colab_type": "code",
        "colab": {}
      },
      "source": [
        "cm = confusion_matrix(y_test.argmax(axis=1), y_pred.argmax(axis=1))\n",
        "cm = cm.astype('float') / cm.sum(axis=1)[:, np.newaxis]"
      ],
      "execution_count": 0,
      "outputs": []
    },
    {
      "cell_type": "code",
      "metadata": {
        "id": "xrsUrfC3iP2n",
        "colab_type": "code",
        "colab": {
          "base_uri": "https://localhost:8080/",
          "height": 446
        },
        "outputId": "fe5df041-2452-4fa4-f18f-0d225d0158e6"
      },
      "source": [
        "cm_df = pd.DataFrame(cm,\n",
        "                     index = ['Negative', 'Neutral', 'Positive'], \n",
        "                     columns = ['Negative', 'Neutral', 'Positive'])\n",
        "plt.figure(figsize=(10,7))\n",
        "sns.heatmap(cm_df, annot=True, fmt='.0%', cmap='Blues')"
      ],
      "execution_count": 166,
      "outputs": [
        {
          "output_type": "execute_result",
          "data": {
            "text/plain": [
              "<matplotlib.axes._subplots.AxesSubplot at 0x7f7c0ddf67f0>"
            ]
          },
          "metadata": {
            "tags": []
          },
          "execution_count": 166
        },
        {
          "output_type": "display_data",
          "data": {
            "image/png": "[encoded data removed]",
            "text/plain": [
              "<Figure size 720x504 with 2 Axes>"
            ]
          },
          "metadata": {
            "tags": [],
            "needs_background": "light"
          }
        }
      ]
    },
    {
      "cell_type": "code",
      "metadata": {
        "id": "vKJvp-9Sfjo0",
        "colab_type": "code",
        "colab": {
          "base_uri": "https://localhost:8080/",
          "height": 201
        },
        "outputId": "7eb33720-e76a-42f7-dad4-66d0037167d2"
      },
      "source": [
        "cr = classification_report(y_test.argmax(axis=1), y_pred.argmax(axis=1))\n",
        "print(cr)"
      ],
      "execution_count": 167,
      "outputs": [
        {
          "output_type": "stream",
          "text": [
            "              precision    recall  f1-score   support\n",
            "\n",
            "           0       0.61      0.56      0.58      5019\n",
            "           1       0.49      0.29      0.37      4589\n",
            "           2       0.56      0.73      0.64      7357\n",
            "\n",
            "    accuracy                           0.56     16965\n",
            "   macro avg       0.55      0.53      0.53     16965\n",
            "weighted avg       0.56      0.56      0.55     16965\n",
            "\n"
          ],
          "name": "stdout"
        }
      ]
    }
  ]
}